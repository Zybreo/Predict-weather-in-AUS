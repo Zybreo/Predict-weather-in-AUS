{
  "nbformat": 4,
  "nbformat_minor": 0,
  "metadata": {
    "colab": {
      "provenance": [],
      "authorship_tag": "ABX9TyORpmuMTFoSe2841skaRmX9",
      "include_colab_link": true
    },
    "kernelspec": {
      "name": "python3",
      "display_name": "Python 3"
    },
    "language_info": {
      "name": "python"
    }
  },
  "cells": [
    {
      "cell_type": "markdown",
      "metadata": {
        "id": "view-in-github",
        "colab_type": "text"
      },
      "source": [
        "<a href=\"https://colab.research.google.com/github/Zybreo/Predict-weather-in-AUS/blob/main/Group_project_6100.ipynb\" target=\"_parent\"><img src=\"https://colab.research.google.com/assets/colab-badge.svg\" alt=\"Open In Colab\"/></a>"
      ]
    },
    {
      "cell_type": "code",
      "execution_count": null,
      "metadata": {
        "id": "Da6McI7P5NR3"
      },
      "outputs": [],
      "source": [
        "import pandas as pd\n",
        "import numpy as np\n",
        "from sklearn.model_selection import train_test_split\n",
        "from sklearn.preprocessing import StandardScaler, OneHotEncoder, LabelEncoder\n",
        "from sklearn.compose import ColumnTransformer\n",
        "from sklearn.impute import SimpleImputer\n",
        "from sklearn.svm import SVC\n",
        "from sklearn.metrics import classification_report, confusion_matrix, accuracy_score,roc_curve, auc\n",
        "from imblearn.over_sampling import SMOTE\n",
        "from sklearn.decomposition import PCA\n",
        "from imblearn.under_sampling import RandomUnderSampler\n",
        "from imblearn.pipeline import Pipeline\n",
        "from sklearn.inspection import permutation_importance\n",
        "import matplotlib.pyplot as plt"
      ]
    },
    {
      "cell_type": "code",
      "source": [
        "df = pd.read_csv('/content/weatherAUS_v3.csv')\n",
        "df1 = pd.read_csv('/content/weather_test .csv')"
      ],
      "metadata": {
        "id": "FmgwjaCYQWml"
      },
      "execution_count": null,
      "outputs": []
    },
    {
      "cell_type": "code",
      "source": [
        "missing_values = df.isna()\n",
        "missing_value_counts1 = df.isna().sum()\n",
        "missing_values1 = df1.isna()\n",
        "missing_value_counts2 = df1.isna().sum()\n",
        "print(missing_value_counts1,missing_value_counts2)"
      ],
      "metadata": {
        "id": "auPCBF4QIyA3",
        "colab": {
          "base_uri": "https://localhost:8080/"
        },
        "outputId": "c0a3aa06-e9ff-4936-b543-d6d1a576b13b"
      },
      "execution_count": null,
      "outputs": [
        {
          "output_type": "stream",
          "name": "stdout",
          "text": [
            "Date                    0\n",
            "Location                0\n",
            "MinTemp              1485\n",
            "MaxTemp              1261\n",
            "Rainfall             3261\n",
            "Evaporation         62790\n",
            "Sunshine            69835\n",
            "WindGustDir         10326\n",
            "WindGustSpeed       10263\n",
            "WindDir9am          10566\n",
            "WindDir3pm           4228\n",
            "WindSpeed9am         1767\n",
            "WindSpeed3pm         3062\n",
            "Humidity9am          2654\n",
            "Humidity3pm          4507\n",
            "Pressure9am         15065\n",
            "Pressure3pm         15028\n",
            "Cloud9am            55888\n",
            "Cloud3pm            59358\n",
            "Temp9am              1767\n",
            "Temp3pm              3609\n",
            "State                3009\n",
            "On The Coast?           0\n",
            "Coast                   0\n",
            "Rain_Last_7_Days      294\n",
            "Rain_2_Days             0\n",
            "Rain_3_Days             0\n",
            "RainTomorrow         3267\n",
            "dtype: int64 Date                 0\n",
            "Location             0\n",
            "MinTemp           3247\n",
            "MaxTemp           3258\n",
            "Rainfall           259\n",
            "Evaporation       9636\n",
            "Sunshine         10241\n",
            "WindGustDir        635\n",
            "WindGustSpeed      634\n",
            "WindDir9am         716\n",
            "WindDir3pm         550\n",
            "WindSpeed9am       715\n",
            "WindSpeed3pm       550\n",
            "Humidity9am        436\n",
            "Humidity3pm        751\n",
            "Pressure9am       1618\n",
            "Pressure3pm       1620\n",
            "Cloud9am          6871\n",
            "Cloud3pm          6794\n",
            "Temp9am            873\n",
            "Temp3pm           1224\n",
            "State              395\n",
            "On The Coast?        0\n",
            "Coast                0\n",
            "dtype: int64\n",
            "Date                    0\n",
            "Location                0\n",
            "MinTemp              1485\n",
            "MaxTemp              1261\n",
            "Rainfall             3261\n",
            "Evaporation         62790\n",
            "Sunshine            69835\n",
            "WindGustDir         10326\n",
            "WindGustSpeed       10263\n",
            "WindDir9am          10566\n",
            "WindDir3pm           4228\n",
            "WindSpeed9am         1767\n",
            "WindSpeed3pm         3062\n",
            "Humidity9am          2654\n",
            "Humidity3pm          4507\n",
            "Pressure9am         15065\n",
            "Pressure3pm         15028\n",
            "Cloud9am            55888\n",
            "Cloud3pm            59358\n",
            "Temp9am              1767\n",
            "Temp3pm              3609\n",
            "State                3009\n",
            "On The Coast?           0\n",
            "Coast                   0\n",
            "Rain_Last_7_Days      294\n",
            "Rain_2_Days             0\n",
            "Rain_3_Days             0\n",
            "RainTomorrow         3267\n",
            "dtype: int64 Date                 0\n",
            "Location             0\n",
            "MinTemp           3247\n",
            "MaxTemp           3258\n",
            "Rainfall           259\n",
            "Evaporation       9636\n",
            "Sunshine         10241\n",
            "WindGustDir        635\n",
            "WindGustSpeed      634\n",
            "WindDir9am         716\n",
            "WindDir3pm         550\n",
            "WindSpeed9am       715\n",
            "WindSpeed3pm       550\n",
            "Humidity9am        436\n",
            "Humidity3pm        751\n",
            "Pressure9am       1618\n",
            "Pressure3pm       1620\n",
            "Cloud9am          6871\n",
            "Cloud3pm          6794\n",
            "Temp9am            873\n",
            "Temp3pm           1224\n",
            "State              395\n",
            "On The Coast?        0\n",
            "Coast                0\n",
            "dtype: int64\n"
          ]
        }
      ]
    },
    {
      "cell_type": "code",
      "source": [
        "print(df.dtypes)\n",
        "print(df1.dtypes)"
      ],
      "metadata": {
        "colab": {
          "base_uri": "https://localhost:8080/"
        },
        "id": "aw5QfCP5ERg4",
        "outputId": "8a64087a-75ad-4827-b13d-b5c72f3eb26a"
      },
      "execution_count": null,
      "outputs": [
        {
          "output_type": "stream",
          "name": "stdout",
          "text": [
            "Date                 object\n",
            "Location             object\n",
            "MinTemp             float64\n",
            "MaxTemp             float64\n",
            "Rainfall            float64\n",
            "Evaporation         float64\n",
            "Sunshine            float64\n",
            "WindGustDir          object\n",
            "WindGustSpeed       float64\n",
            "WindDir9am           object\n",
            "WindDir3pm           object\n",
            "WindSpeed9am        float64\n",
            "WindSpeed3pm        float64\n",
            "Humidity9am         float64\n",
            "Humidity3pm         float64\n",
            "Pressure9am         float64\n",
            "Pressure3pm         float64\n",
            "Cloud9am            float64\n",
            "Cloud3pm            float64\n",
            "Temp9am             float64\n",
            "Temp3pm             float64\n",
            "State                object\n",
            "On The Coast?         int64\n",
            "Coast                object\n",
            "Rain_Last_7_Days    float64\n",
            "Rain_2_Days           int64\n",
            "Rain_3_Days           int64\n",
            "RainTomorrow        float64\n",
            "dtype: object\n",
            "Date              object\n",
            "Location          object\n",
            "MinTemp          float64\n",
            "MaxTemp          float64\n",
            "Rainfall         float64\n",
            "Evaporation      float64\n",
            "Sunshine         float64\n",
            "WindGustDir       object\n",
            "WindGustSpeed    float64\n",
            "WindDir9am        object\n",
            "WindDir3pm        object\n",
            "WindSpeed9am     float64\n",
            "WindSpeed3pm     float64\n",
            "Humidity9am      float64\n",
            "Humidity3pm      float64\n",
            "Pressure9am      float64\n",
            "Pressure3pm      float64\n",
            "Cloud9am         float64\n",
            "Cloud3pm         float64\n",
            "Temp9am          float64\n",
            "Temp3pm          float64\n",
            "State             object\n",
            "On The Coast?      int64\n",
            "Coast             object\n",
            "dtype: object\n",
            "Date                 object\n",
            "Location             object\n",
            "MinTemp             float64\n",
            "MaxTemp             float64\n",
            "Rainfall            float64\n",
            "Evaporation         float64\n",
            "Sunshine            float64\n",
            "WindGustDir          object\n",
            "WindGustSpeed       float64\n",
            "WindDir9am           object\n",
            "WindDir3pm           object\n",
            "WindSpeed9am        float64\n",
            "WindSpeed3pm        float64\n",
            "Humidity9am         float64\n",
            "Humidity3pm         float64\n",
            "Pressure9am         float64\n",
            "Pressure3pm         float64\n",
            "Cloud9am            float64\n",
            "Cloud3pm            float64\n",
            "Temp9am             float64\n",
            "Temp3pm             float64\n",
            "State                object\n",
            "On The Coast?         int64\n",
            "Coast                object\n",
            "Rain_Last_7_Days    float64\n",
            "Rain_2_Days           int64\n",
            "Rain_3_Days           int64\n",
            "RainTomorrow        float64\n",
            "dtype: object\n",
            "Date              object\n",
            "Location          object\n",
            "MinTemp          float64\n",
            "MaxTemp          float64\n",
            "Rainfall         float64\n",
            "Evaporation      float64\n",
            "Sunshine         float64\n",
            "WindGustDir       object\n",
            "WindGustSpeed    float64\n",
            "WindDir9am        object\n",
            "WindDir3pm        object\n",
            "WindSpeed9am     float64\n",
            "WindSpeed3pm     float64\n",
            "Humidity9am      float64\n",
            "Humidity3pm      float64\n",
            "Pressure9am      float64\n",
            "Pressure3pm      float64\n",
            "Cloud9am         float64\n",
            "Cloud3pm         float64\n",
            "Temp9am          float64\n",
            "Temp3pm          float64\n",
            "State             object\n",
            "On The Coast?      int64\n",
            "Coast             object\n",
            "dtype: object\n"
          ]
        }
      ]
    },
    {
      "cell_type": "code",
      "source": [
        "# Fill missing numerical values with the mean\n",
        "num_cols = df.select_dtypes(include=['float64', 'int64']).columns\n",
        "for col in num_cols:\n",
        "    df[col].fillna(df[col].mean(), inplace=True)\n",
        "    if col in df1.columns:\n",
        "        df1[col].fillna(df1[col].mean(), inplace=True)\n",
        "\n",
        "# Fill missing categorical values with the mode\n",
        "cat_cols = df.select_dtypes(include=['object']).columns\n",
        "for col in cat_cols:\n",
        "    df[col].fillna(df[col].mode()[0], inplace=True)\n",
        "    if col in df1.columns:\n",
        "        df1[col].fillna(df1[col].mode()[0], inplace=True)\n",
        "\n",
        "# Create dummy variables for 'Location' column\n",
        "df = pd.get_dummies(df, columns=['Location'], drop_first=True)\n",
        "df1 = pd.get_dummies(df1, columns=['Location'], drop_first=True)"
      ],
      "metadata": {
        "id": "j65cT42JR3LH"
      },
      "execution_count": null,
      "outputs": []
    },
    {
      "cell_type": "code",
      "source": [
        "# Convert 'RainTomorrow' to an integer type\n",
        "df['RainTomorrow'] = df['RainTomorrow'].astype(int)"
      ],
      "metadata": {
        "id": "ey9I9PoSLll8"
      },
      "execution_count": null,
      "outputs": []
    },
    {
      "cell_type": "code",
      "source": [
        "# Prepare the data for the SVM model\n",
        "X = df.drop(columns=['Date', 'WindGustDir', 'WindDir9am', 'WindDir3pm', 'State', 'Coast', 'RainTomorrow'])\n",
        "y = df['RainTomorrow']"
      ],
      "metadata": {
        "id": "eBZ_Lb5TK9fO"
      },
      "execution_count": null,
      "outputs": []
    },
    {
      "cell_type": "code",
      "source": [
        "# Apply PCA to reduce the number of features\n",
        "pca = PCA(n_components=10)  # Keep 10 principal components\n",
        "X_pca = pca.fit_transform(X)\n",
        "\n",
        "X_train_pca, X_test_pca, y_train_pca, y_test_pca = train_test_split(X_pca, y, test_size=0.2, random_state=42)"
      ],
      "metadata": {
        "id": "sOyeiPGXLz9t"
      },
      "execution_count": null,
      "outputs": []
    },
    {
      "cell_type": "code",
      "source": [
        "# Train the SVM model with the RBF kernel and reduced features\n",
        "svm_model = SVC(kernel='rbf', C=1, gamma='scale')\n",
        "svm_model.fit(X_train_pca, y_train_pca)\n",
        "\n",
        "# Make predictions using the trained model\n",
        "y_pred_pca = svm_model.predict(X_test_pca)"
      ],
      "metadata": {
        "id": "4uA9d9P6L0Az"
      },
      "execution_count": null,
      "outputs": []
    },
    {
      "cell_type": "code",
      "source": [
        "# Evaluate the model\n",
        "print(classification_report(y_test_pca, y_pred_pca))\n",
        "print(confusion_matrix(y_test_pca, y_pred_pca))\n",
        "print(\"Accuracy: \", accuracy_score(y_test_pca, y_pred_pca))"
      ],
      "metadata": {
        "colab": {
          "base_uri": "https://localhost:8080/"
        },
        "id": "dmgwniPsL0EP",
        "outputId": "aa1a1e20-9fe7-43be-e1f1-6e3776ba20e9"
      },
      "execution_count": null,
      "outputs": [
        {
          "output_type": "stream",
          "name": "stdout",
          "text": [
            "              precision    recall  f1-score   support\n",
            "\n",
            "           0       0.86      0.96      0.91     22750\n",
            "           1       0.77      0.43      0.55      6342\n",
            "\n",
            "    accuracy                           0.85     29092\n",
            "   macro avg       0.82      0.70      0.73     29092\n",
            "weighted avg       0.84      0.85      0.83     29092\n",
            "\n",
            "[[21938   812]\n",
            " [ 3605  2737]]\n",
            "Accuracy:  0.8481713185755534\n"
          ]
        }
      ]
    },
    {
      "cell_type": "code",
      "source": [
        "# Calculate the counts of each class in the target variable\n",
        "class_counts = df['RainTomorrow'].value_counts()\n",
        "\n",
        "# Calculate the proportions of each class\n",
        "class_proportions = class_counts / len(df)\n",
        "\n",
        "# Print the counts and proportions\n",
        "print(\"Class Counts:\\n\", class_counts)\n",
        "print(\"\\nClass Proportions:\\n\", class_proportions)"
      ],
      "metadata": {
        "colab": {
          "base_uri": "https://localhost:8080/"
        },
        "id": "7agPHXMfK9ny",
        "outputId": "38388196-d0ee-4804-a91c-73549a9271c0"
      },
      "execution_count": null,
      "outputs": [
        {
          "output_type": "stream",
          "name": "stdout",
          "text": [
            "Class Counts:\n",
            " 0    113583\n",
            "1     31877\n",
            "Name: RainTomorrow, dtype: int64\n",
            "\n",
            "Class Proportions:\n",
            " 0    0.780854\n",
            "1    0.219146\n",
            "Name: RainTomorrow, dtype: float64\n"
          ]
        }
      ]
    },
    {
      "cell_type": "code",
      "source": [
        "!pip install -U imbalanced-learn"
      ],
      "metadata": {
        "colab": {
          "base_uri": "https://localhost:8080/"
        },
        "id": "hnl_ICLQK9qj",
        "outputId": "cefc9284-1dc3-4a6f-c389-91916fa95700"
      },
      "execution_count": null,
      "outputs": [
        {
          "output_type": "stream",
          "name": "stdout",
          "text": [
            "Looking in indexes: https://pypi.org/simple, https://us-python.pkg.dev/colab-wheels/public/simple/\n",
            "Requirement already satisfied: imbalanced-learn in /usr/local/lib/python3.10/dist-packages (0.10.1)\n",
            "Requirement already satisfied: scikit-learn>=1.0.2 in /usr/local/lib/python3.10/dist-packages (from imbalanced-learn) (1.2.2)\n",
            "Requirement already satisfied: scipy>=1.3.2 in /usr/local/lib/python3.10/dist-packages (from imbalanced-learn) (1.10.1)\n",
            "Requirement already satisfied: joblib>=1.1.1 in /usr/local/lib/python3.10/dist-packages (from imbalanced-learn) (1.2.0)\n",
            "Requirement already satisfied: threadpoolctl>=2.0.0 in /usr/local/lib/python3.10/dist-packages (from imbalanced-learn) (3.1.0)\n",
            "Requirement already satisfied: numpy>=1.17.3 in /usr/local/lib/python3.10/dist-packages (from imbalanced-learn) (1.22.4)\n"
          ]
        }
      ]
    },
    {
      "cell_type": "code",
      "source": [
        "# Standardize the features\n",
        "scaler = StandardScaler()\n",
        "X = scaler.fit_transform(X)\n",
        "\n",
        "# Split the data into training and testing sets\n",
        "X_train, X_test, y_train, y_test = train_test_split(X, y, test_size=0.2, random_state=42)\n"
      ],
      "metadata": {
        "id": "MiH_4u3lU11Z"
      },
      "execution_count": null,
      "outputs": []
    },
    {
      "cell_type": "code",
      "source": [
        "# Define the resampling pipeline\n",
        "resampling_pipeline = Pipeline(\n",
        "    [\n",
        "        ('smote', SMOTE(sampling_strategy=0.5)),\n",
        "        ('undersample', RandomUnderSampler(sampling_strategy=0.8))\n",
        "    ]\n",
        ")"
      ],
      "metadata": {
        "id": "XbFkFdY6K9tj"
      },
      "execution_count": null,
      "outputs": []
    },
    {
      "cell_type": "code",
      "source": [
        "# Apply the resampling pipeline to the training set\n",
        "X_train_resampled, y_train_resampled = resampling_pipeline.fit_resample(X_train, y_train)\n",
        "\n",
        "# Train the SVM model with the RBF kernel and resampled data\n",
        "svm_model = SVC(kernel='rbf', C=1, gamma='scale')\n",
        "svm_model.fit(X_train_resampled, y_train_resampled)\n"
      ],
      "metadata": {
        "colab": {
          "base_uri": "https://localhost:8080/",
          "height": 75
        },
        "id": "brxqAvFAK90v",
        "outputId": "42d5f477-e78e-48ed-947c-f7710861739d"
      },
      "execution_count": null,
      "outputs": [
        {
          "output_type": "execute_result",
          "data": {
            "text/plain": [
              "SVC(C=1)"
            ],
            "text/html": [
              "<style>#sk-container-id-1 {color: black;background-color: white;}#sk-container-id-1 pre{padding: 0;}#sk-container-id-1 div.sk-toggleable {background-color: white;}#sk-container-id-1 label.sk-toggleable__label {cursor: pointer;display: block;width: 100%;margin-bottom: 0;padding: 0.3em;box-sizing: border-box;text-align: center;}#sk-container-id-1 label.sk-toggleable__label-arrow:before {content: \"▸\";float: left;margin-right: 0.25em;color: #696969;}#sk-container-id-1 label.sk-toggleable__label-arrow:hover:before {color: black;}#sk-container-id-1 div.sk-estimator:hover label.sk-toggleable__label-arrow:before {color: black;}#sk-container-id-1 div.sk-toggleable__content {max-height: 0;max-width: 0;overflow: hidden;text-align: left;background-color: #f0f8ff;}#sk-container-id-1 div.sk-toggleable__content pre {margin: 0.2em;color: black;border-radius: 0.25em;background-color: #f0f8ff;}#sk-container-id-1 input.sk-toggleable__control:checked~div.sk-toggleable__content {max-height: 200px;max-width: 100%;overflow: auto;}#sk-container-id-1 input.sk-toggleable__control:checked~label.sk-toggleable__label-arrow:before {content: \"▾\";}#sk-container-id-1 div.sk-estimator input.sk-toggleable__control:checked~label.sk-toggleable__label {background-color: #d4ebff;}#sk-container-id-1 div.sk-label input.sk-toggleable__control:checked~label.sk-toggleable__label {background-color: #d4ebff;}#sk-container-id-1 input.sk-hidden--visually {border: 0;clip: rect(1px 1px 1px 1px);clip: rect(1px, 1px, 1px, 1px);height: 1px;margin: -1px;overflow: hidden;padding: 0;position: absolute;width: 1px;}#sk-container-id-1 div.sk-estimator {font-family: monospace;background-color: #f0f8ff;border: 1px dotted black;border-radius: 0.25em;box-sizing: border-box;margin-bottom: 0.5em;}#sk-container-id-1 div.sk-estimator:hover {background-color: #d4ebff;}#sk-container-id-1 div.sk-parallel-item::after {content: \"\";width: 100%;border-bottom: 1px solid gray;flex-grow: 1;}#sk-container-id-1 div.sk-label:hover label.sk-toggleable__label {background-color: #d4ebff;}#sk-container-id-1 div.sk-serial::before {content: \"\";position: absolute;border-left: 1px solid gray;box-sizing: border-box;top: 0;bottom: 0;left: 50%;z-index: 0;}#sk-container-id-1 div.sk-serial {display: flex;flex-direction: column;align-items: center;background-color: white;padding-right: 0.2em;padding-left: 0.2em;position: relative;}#sk-container-id-1 div.sk-item {position: relative;z-index: 1;}#sk-container-id-1 div.sk-parallel {display: flex;align-items: stretch;justify-content: center;background-color: white;position: relative;}#sk-container-id-1 div.sk-item::before, #sk-container-id-1 div.sk-parallel-item::before {content: \"\";position: absolute;border-left: 1px solid gray;box-sizing: border-box;top: 0;bottom: 0;left: 50%;z-index: -1;}#sk-container-id-1 div.sk-parallel-item {display: flex;flex-direction: column;z-index: 1;position: relative;background-color: white;}#sk-container-id-1 div.sk-parallel-item:first-child::after {align-self: flex-end;width: 50%;}#sk-container-id-1 div.sk-parallel-item:last-child::after {align-self: flex-start;width: 50%;}#sk-container-id-1 div.sk-parallel-item:only-child::after {width: 0;}#sk-container-id-1 div.sk-dashed-wrapped {border: 1px dashed gray;margin: 0 0.4em 0.5em 0.4em;box-sizing: border-box;padding-bottom: 0.4em;background-color: white;}#sk-container-id-1 div.sk-label label {font-family: monospace;font-weight: bold;display: inline-block;line-height: 1.2em;}#sk-container-id-1 div.sk-label-container {text-align: center;}#sk-container-id-1 div.sk-container {/* jupyter's `normalize.less` sets `[hidden] { display: none; }` but bootstrap.min.css set `[hidden] { display: none !important; }` so we also need the `!important` here to be able to override the default hidden behavior on the sphinx rendered scikit-learn.org. See: https://github.com/scikit-learn/scikit-learn/issues/21755 */display: inline-block !important;position: relative;}#sk-container-id-1 div.sk-text-repr-fallback {display: none;}</style><div id=\"sk-container-id-1\" class=\"sk-top-container\"><div class=\"sk-text-repr-fallback\"><pre>SVC(C=1)</pre><b>In a Jupyter environment, please rerun this cell to show the HTML representation or trust the notebook. <br />On GitHub, the HTML representation is unable to render, please try loading this page with nbviewer.org.</b></div><div class=\"sk-container\" hidden><div class=\"sk-item\"><div class=\"sk-estimator sk-toggleable\"><input class=\"sk-toggleable__control sk-hidden--visually\" id=\"sk-estimator-id-1\" type=\"checkbox\" checked><label for=\"sk-estimator-id-1\" class=\"sk-toggleable__label sk-toggleable__label-arrow\">SVC</label><div class=\"sk-toggleable__content\"><pre>SVC(C=1)</pre></div></div></div></div></div>"
            ]
          },
          "metadata": {},
          "execution_count": 22
        }
      ]
    },
    {
      "cell_type": "code",
      "source": [
        "# Make predictions using the trained model\n",
        "y_pred = svm_model.predict(X_test)"
      ],
      "metadata": {
        "id": "zQybZXBxK93G"
      },
      "execution_count": null,
      "outputs": []
    },
    {
      "cell_type": "code",
      "source": [
        "# Evaluate the model\n",
        "print(classification_report(y_test, y_pred))\n",
        "print(confusion_matrix(y_test, y_pred))\n",
        "print(\"Accuracy: \", accuracy_score(y_test, y_pred))"
      ],
      "metadata": {
        "colab": {
          "base_uri": "https://localhost:8080/"
        },
        "id": "qrDzPEMNK956",
        "outputId": "5d06b5b9-6500-4038-c884-6d03a4df93fd"
      },
      "execution_count": null,
      "outputs": [
        {
          "output_type": "stream",
          "name": "stdout",
          "text": [
            "              precision    recall  f1-score   support\n",
            "\n",
            "           0       0.93      0.85      0.89     22750\n",
            "           1       0.58      0.76      0.66      6342\n",
            "\n",
            "    accuracy                           0.83     29092\n",
            "   macro avg       0.76      0.80      0.77     29092\n",
            "weighted avg       0.85      0.83      0.84     29092\n",
            "\n",
            "[[19343  3407]\n",
            " [ 1549  4793]]\n",
            "Accuracy:  0.8296438883541867\n"
          ]
        }
      ]
    },
    {
      "cell_type": "code",
      "source": [
        "# Train a linear SVM model\n",
        "linear_svm_model = SVC(kernel='linear', C=1)\n",
        "linear_svm_model.fit(X_train_resampled, y_train_resampled)"
      ],
      "metadata": {
        "colab": {
          "base_uri": "https://localhost:8080/",
          "height": 75
        },
        "id": "1lMEQ6tetB3I",
        "outputId": "e41e3566-a4a0-491f-dfd5-220735d55000"
      },
      "execution_count": null,
      "outputs": [
        {
          "output_type": "execute_result",
          "data": {
            "text/plain": [
              "SVC(C=1, kernel='linear')"
            ],
            "text/html": [
              "<style>#sk-container-id-2 {color: black;background-color: white;}#sk-container-id-2 pre{padding: 0;}#sk-container-id-2 div.sk-toggleable {background-color: white;}#sk-container-id-2 label.sk-toggleable__label {cursor: pointer;display: block;width: 100%;margin-bottom: 0;padding: 0.3em;box-sizing: border-box;text-align: center;}#sk-container-id-2 label.sk-toggleable__label-arrow:before {content: \"▸\";float: left;margin-right: 0.25em;color: #696969;}#sk-container-id-2 label.sk-toggleable__label-arrow:hover:before {color: black;}#sk-container-id-2 div.sk-estimator:hover label.sk-toggleable__label-arrow:before {color: black;}#sk-container-id-2 div.sk-toggleable__content {max-height: 0;max-width: 0;overflow: hidden;text-align: left;background-color: #f0f8ff;}#sk-container-id-2 div.sk-toggleable__content pre {margin: 0.2em;color: black;border-radius: 0.25em;background-color: #f0f8ff;}#sk-container-id-2 input.sk-toggleable__control:checked~div.sk-toggleable__content {max-height: 200px;max-width: 100%;overflow: auto;}#sk-container-id-2 input.sk-toggleable__control:checked~label.sk-toggleable__label-arrow:before {content: \"▾\";}#sk-container-id-2 div.sk-estimator input.sk-toggleable__control:checked~label.sk-toggleable__label {background-color: #d4ebff;}#sk-container-id-2 div.sk-label input.sk-toggleable__control:checked~label.sk-toggleable__label {background-color: #d4ebff;}#sk-container-id-2 input.sk-hidden--visually {border: 0;clip: rect(1px 1px 1px 1px);clip: rect(1px, 1px, 1px, 1px);height: 1px;margin: -1px;overflow: hidden;padding: 0;position: absolute;width: 1px;}#sk-container-id-2 div.sk-estimator {font-family: monospace;background-color: #f0f8ff;border: 1px dotted black;border-radius: 0.25em;box-sizing: border-box;margin-bottom: 0.5em;}#sk-container-id-2 div.sk-estimator:hover {background-color: #d4ebff;}#sk-container-id-2 div.sk-parallel-item::after {content: \"\";width: 100%;border-bottom: 1px solid gray;flex-grow: 1;}#sk-container-id-2 div.sk-label:hover label.sk-toggleable__label {background-color: #d4ebff;}#sk-container-id-2 div.sk-serial::before {content: \"\";position: absolute;border-left: 1px solid gray;box-sizing: border-box;top: 0;bottom: 0;left: 50%;z-index: 0;}#sk-container-id-2 div.sk-serial {display: flex;flex-direction: column;align-items: center;background-color: white;padding-right: 0.2em;padding-left: 0.2em;position: relative;}#sk-container-id-2 div.sk-item {position: relative;z-index: 1;}#sk-container-id-2 div.sk-parallel {display: flex;align-items: stretch;justify-content: center;background-color: white;position: relative;}#sk-container-id-2 div.sk-item::before, #sk-container-id-2 div.sk-parallel-item::before {content: \"\";position: absolute;border-left: 1px solid gray;box-sizing: border-box;top: 0;bottom: 0;left: 50%;z-index: -1;}#sk-container-id-2 div.sk-parallel-item {display: flex;flex-direction: column;z-index: 1;position: relative;background-color: white;}#sk-container-id-2 div.sk-parallel-item:first-child::after {align-self: flex-end;width: 50%;}#sk-container-id-2 div.sk-parallel-item:last-child::after {align-self: flex-start;width: 50%;}#sk-container-id-2 div.sk-parallel-item:only-child::after {width: 0;}#sk-container-id-2 div.sk-dashed-wrapped {border: 1px dashed gray;margin: 0 0.4em 0.5em 0.4em;box-sizing: border-box;padding-bottom: 0.4em;background-color: white;}#sk-container-id-2 div.sk-label label {font-family: monospace;font-weight: bold;display: inline-block;line-height: 1.2em;}#sk-container-id-2 div.sk-label-container {text-align: center;}#sk-container-id-2 div.sk-container {/* jupyter's `normalize.less` sets `[hidden] { display: none; }` but bootstrap.min.css set `[hidden] { display: none !important; }` so we also need the `!important` here to be able to override the default hidden behavior on the sphinx rendered scikit-learn.org. See: https://github.com/scikit-learn/scikit-learn/issues/21755 */display: inline-block !important;position: relative;}#sk-container-id-2 div.sk-text-repr-fallback {display: none;}</style><div id=\"sk-container-id-2\" class=\"sk-top-container\"><div class=\"sk-text-repr-fallback\"><pre>SVC(C=1, kernel=&#x27;linear&#x27;)</pre><b>In a Jupyter environment, please rerun this cell to show the HTML representation or trust the notebook. <br />On GitHub, the HTML representation is unable to render, please try loading this page with nbviewer.org.</b></div><div class=\"sk-container\" hidden><div class=\"sk-item\"><div class=\"sk-estimator sk-toggleable\"><input class=\"sk-toggleable__control sk-hidden--visually\" id=\"sk-estimator-id-2\" type=\"checkbox\" checked><label for=\"sk-estimator-id-2\" class=\"sk-toggleable__label sk-toggleable__label-arrow\">SVC</label><div class=\"sk-toggleable__content\"><pre>SVC(C=1, kernel=&#x27;linear&#x27;)</pre></div></div></div></div></div>"
            ]
          },
          "metadata": {},
          "execution_count": 25
        }
      ]
    },
    {
      "cell_type": "code",
      "source": [
        "# Get the feature names from the original dataset\n",
        "feature_names = df.drop(columns=['Date', 'WindGustDir', 'WindDir9am', 'WindDir3pm', 'State', 'Coast', 'RainTomorrow']).columns\n",
        "\n",
        "# Get the coefficients from the linear SVM model\n",
        "coef = linear_svm_model.coef_[0]\n",
        "\n",
        "# Print the feature importances\n",
        "for i in range(len(feature_names)):\n",
        "    print(f\"{feature_names[i]:<20}: {abs(coef[i]):.5f}\")"
      ],
      "metadata": {
        "colab": {
          "base_uri": "https://localhost:8080/"
        },
        "id": "OXbfgC10tHoA",
        "outputId": "02b65a89-01cf-4f9a-8eb9-dd62e7de375b"
      },
      "execution_count": null,
      "outputs": [
        {
          "output_type": "stream",
          "name": "stdout",
          "text": [
            "MinTemp             : 0.04948\n",
            "MaxTemp             : 0.40619\n",
            "Rainfall            : 0.14576\n",
            "Evaporation         : 0.00029\n",
            "Sunshine            : 0.24944\n",
            "WindGustSpeed       : 0.62523\n",
            "WindSpeed9am        : 0.02493\n",
            "WindSpeed3pm        : 0.17355\n",
            "Humidity9am         : 0.08551\n",
            "Humidity3pm         : 0.93376\n",
            "Pressure9am         : 0.83375\n",
            "Pressure3pm         : 1.16824\n",
            "Cloud9am            : 0.00867\n",
            "Cloud3pm            : 0.21487\n",
            "Temp9am             : 0.12240\n",
            "Temp3pm             : 0.27389\n",
            "On The Coast?       : 0.16714\n",
            "Rain_Last_7_Days    : 0.07698\n",
            "Rain_2_Days         : 0.04777\n",
            "Rain_3_Days         : 0.02330\n",
            "Location_Albany     : 0.07933\n",
            "Location_Albury     : 0.01728\n",
            "Location_AliceSprings: 0.01820\n",
            "Location_BadgerysCreek: 0.01554\n",
            "Location_Ballarat   : 0.07542\n",
            "Location_Bendigo    : 0.00606\n",
            "Location_Brisbane   : 0.04595\n",
            "Location_Cairns     : 0.10910\n",
            "Location_Canberra   : 0.02827\n",
            "Location_Cobar      : 0.01742\n",
            "Location_CoffsHarbour: 0.08677\n",
            "Location_Dartmoor   : 0.02243\n",
            "Location_Darwin     : 0.13657\n",
            "Location_GoldCoast  : 0.12303\n",
            "Location_Hobart     : 0.11941\n",
            "Location_Katherine  : 0.05215\n",
            "Location_Launceston : 0.09029\n",
            "Location_Melbourne  : 0.13230\n",
            "Location_MelbourneAirport: 0.11972\n",
            "Location_Mildura    : 0.01693\n",
            "Location_Moree      : 0.00895\n",
            "Location_MountGambier: 0.01025\n",
            "Location_MountGinini: 0.14306\n",
            "Location_Newcastle  : 0.10836\n",
            "Location_Nhil       : 0.02410\n",
            "Location_NorahHead  : 0.12978\n",
            "Location_NorfolkIsland: 0.13949\n",
            "Location_Nuriootpa  : 0.02765\n",
            "Location_PearceRAAF : 0.00411\n",
            "Location_Penrith    : 0.00307\n",
            "Location_Perth      : 0.00828\n",
            "Location_PerthAirport: 0.02457\n",
            "Location_Portland   : 0.02578\n",
            "Location_Richmond   : 0.03199\n",
            "Location_Sale       : 0.06629\n",
            "Location_SalmonGums : 0.01196\n",
            "Location_Sydney     : 0.06857\n",
            "Location_SydneyAirport: 0.09590\n",
            "Location_Townsville : 0.17618\n",
            "Location_Tuggeranong: 0.00016\n",
            "Location_Uluru      : 0.00225\n",
            "Location_WaggaWagga : 0.00383\n",
            "Location_Walpole    : 0.08679\n",
            "Location_Watsonia   : 0.04759\n",
            "Location_Williamtown: 0.07041\n",
            "Location_Witchcliffe: 0.03457\n",
            "Location_Wollongong : 0.17751\n",
            "Location_Woomera    : 0.02961\n"
          ]
        }
      ]
    },
    {
      "cell_type": "code",
      "source": [
        "# Obtain the decision function scores for both models\n",
        "linear_decision_scores = linear_svm_model.decision_function(X_test)\n",
        "rbf_decision_scores = svm_model.decision_function(X_test)\n",
        "\n",
        "# Calculate the ROC curves\n",
        "fpr_linear, tpr_linear, _ = roc_curve(y_test, linear_decision_scores)\n",
        "fpr_rbf, tpr_rbf, _ = roc_curve(y_test, rbf_decision_scores)\n",
        "\n",
        "# Calculate the AUC for both models\n",
        "auc_linear = auc(fpr_linear, tpr_linear)\n",
        "auc_rbf = auc(fpr_rbf, tpr_rbf)\n",
        "\n",
        "# Plot the ROC curves\n",
        "plt.figure()\n",
        "plt.plot(fpr_linear, tpr_linear, color='blue', label=f'Linear SVM (AUC = {auc_linear:.2f})')\n",
        "plt.plot(fpr_rbf, tpr_rbf, color='green', label=f'RBF SVM (AUC = {auc_rbf:.2f})')\n",
        "plt.plot([0, 1], [0, 1], color='red', linestyle='--')\n",
        "plt.xlim([0.0, 1.0])\n",
        "plt.ylim([0.0, 1.05])\n",
        "plt.xlabel('False Positive Rate')\n",
        "plt.ylabel('True Positive Rate')\n",
        "plt.title('Receiver Operating Characteristic (ROC) Curve')\n",
        "plt.legend(loc='lower right')\n",
        "plt.show()"
      ],
      "metadata": {
        "colab": {
          "base_uri": "https://localhost:8080/",
          "height": 472
        },
        "id": "ZDWttbh4qRuF",
        "outputId": "0807074a-cebe-41fa-a5d8-ea9cb3d78e87"
      },
      "execution_count": null,
      "outputs": [
        {
          "output_type": "display_data",
          "data": {
            "text/plain": [
              "<Figure size 640x480 with 1 Axes>"
            ],
            "image/png": "[encoded data removed]"
          },
          "metadata": {}
        }
      ]
    },
    {
      "cell_type": "code",
      "source": [
        "# Predict the class labels using the linear SVM model\n",
        "y_pred_linear = linear_svm_model.predict(X_test)\n",
        "\n",
        "# Calculate the accuracy score\n",
        "accuracy_linear = accuracy_score(y_test, y_pred_linear)\n",
        "\n",
        "# Calculate the confusion matrix\n",
        "confusion_matrix_linear = confusion_matrix(y_test, y_pred_linear)\n",
        "\n",
        "# Print the accuracy score, confusion matrix, and classification report\n",
        "print(\"Accuracy (Linear SVM):\", accuracy_linear)\n",
        "print(\"\\nConfusion Matrix (Linear SVM):\\n\", confusion_matrix_linear)\n",
        "print(\"\\nClassification Report (Linear SVM):\\n\", classification_report(y_test, y_pred_linear))"
      ],
      "metadata": {
        "colab": {
          "base_uri": "https://localhost:8080/"
        },
        "id": "NODhD8nl_O1C",
        "outputId": "eda5dd4b-a864-4670-b93a-2d4b3e0ba0c9"
      },
      "execution_count": null,
      "outputs": [
        {
          "output_type": "stream",
          "name": "stdout",
          "text": [
            "Accuracy (Linear SVM): 0.809225904028599\n",
            "\n",
            "Confusion Matrix (Linear SVM):\n",
            " [[18922  3828]\n",
            " [ 1722  4620]]\n",
            "\n",
            "Classification Report (Linear SVM):\n",
            "               precision    recall  f1-score   support\n",
            "\n",
            "           0       0.92      0.83      0.87     22750\n",
            "           1       0.55      0.73      0.62      6342\n",
            "\n",
            "    accuracy                           0.81     29092\n",
            "   macro avg       0.73      0.78      0.75     29092\n",
            "weighted avg       0.84      0.81      0.82     29092\n",
            "\n"
          ]
        }
      ]
    }
  ]
}